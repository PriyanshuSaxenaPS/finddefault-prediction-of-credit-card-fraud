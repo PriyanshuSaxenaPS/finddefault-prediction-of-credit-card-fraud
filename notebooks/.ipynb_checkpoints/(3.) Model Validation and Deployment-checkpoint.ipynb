{
 "cells": [
  {
   "cell_type": "markdown",
   "id": "25335ca7-c75d-4995-9538-ecdd82c7338a",
   "metadata": {},
   "source": [
    "### Model Validation and Deployment\n",
    "\n",
    "Prepare the model for deployment, including saving the model."
   ]
  },
  {
   "cell_type": "code",
   "execution_count": 1,
   "id": "eafe6d6a-2cee-401a-9aaa-80340dd0634e",
   "metadata": {},
   "outputs": [
    {
     "name": "stdout",
     "output_type": "stream",
     "text": [
      "Isolation Forest:\n",
      "Number of Errors: 73\n",
      "Accuracy Score: 0.9974368877497279\n",
      "Classification Report:\n",
      "              precision    recall  f1-score   support\n",
      "\n",
      "           0       1.00      1.00      1.00     28432\n",
      "           1       0.26      0.27      0.26        49\n",
      "\n",
      "    accuracy                           1.00     28481\n",
      "   macro avg       0.63      0.63      0.63     28481\n",
      "weighted avg       1.00      1.00      1.00     28481\n",
      "\n",
      "Local Outlier Factor:\n",
      "Number of Errors: 97\n",
      "Accuracy Score: 0.9965942207085425\n",
      "Classification Report:\n",
      "              precision    recall  f1-score   support\n",
      "\n",
      "           0       1.00      1.00      1.00     28432\n",
      "           1       0.02      0.02      0.02        49\n",
      "\n",
      "    accuracy                           1.00     28481\n",
      "   macro avg       0.51      0.51      0.51     28481\n",
      "weighted avg       1.00      1.00      1.00     28481\n",
      "\n",
      "Support Vector Machine:\n",
      "Number of Errors: 8515\n",
      "Accuracy Score: 0.7010287560127805\n",
      "Classification Report:\n",
      "              precision    recall  f1-score   support\n",
      "\n",
      "           0       1.00      0.70      0.82     28432\n",
      "           1       0.00      0.37      0.00        49\n",
      "\n",
      "    accuracy                           0.70     28481\n",
      "   macro avg       0.50      0.53      0.41     28481\n",
      "weighted avg       1.00      0.70      0.82     28481\n",
      "\n"
     ]
    }
   ],
   "source": [
    "import pickle\n",
    "import pandas as pd\n",
    "from sklearn.metrics import accuracy_score, classification_report\n",
    "\n",
    "# Load the models\n",
    "with open('../models/isolation_forest.pkl', 'rb') as file:\n",
    "    isolation_forest_model = pickle.load(file)\n",
    "\n",
    "with open('../models/local_outlier_factor.pkl', 'rb') as file:\n",
    "    local_outlier_factor_model = pickle.load(file)\n",
    "\n",
    "with open('../models/support_vector_machine.pkl', 'rb') as file:\n",
    "    one_class_svm_model = pickle.load(file)\n",
    "\n",
    "# Load and prepare data\n",
    "data = pd.read_csv('../data/raw/creditcard.csv', sep=',')\n",
    "data1 = data.sample(frac=0.1, random_state=1)\n",
    "columns = [c for c in data1.columns if c not in [\"Class\"]]\n",
    "X = data1[columns]\n",
    "\n",
    "# Predict and evaluate\n",
    "for model_name, model in {\n",
    "    \"Isolation Forest\": isolation_forest_model,\n",
    "    \"Local Outlier Factor\": local_outlier_factor_model,\n",
    "    \"Support Vector Machine\": one_class_svm_model\n",
    "}.items():\n",
    "    if model_name == \"Local Outlier Factor\":\n",
    "        y_pred = model.fit_predict(X)\n",
    "        y_pred[y_pred == 1] = 0\n",
    "        y_pred[y_pred == -1] = 1\n",
    "    elif model_name == \"Support Vector Machine\":\n",
    "        y_pred = model.predict(X)\n",
    "        y_pred[y_pred == 1] = 0\n",
    "        y_pred[y_pred == -1] = 1\n",
    "    else:\n",
    "        y_pred = model.predict(X)\n",
    "        y_pred[y_pred == 1] = 0\n",
    "        y_pred[y_pred == -1] = 1\n",
    "\n",
    "    # Print results\n",
    "    print(f\"{model_name}:\")\n",
    "    print(f\"Number of Errors: {(y_pred != data1['Class']).sum()}\")\n",
    "    print(f\"Accuracy Score: {accuracy_score(data1['Class'], y_pred)}\")\n",
    "    print(f\"Classification Report:\\n{classification_report(data1['Class'], y_pred)}\")\n"
   ]
  },
  {
   "cell_type": "markdown",
   "id": "34572fee-ca71-4c8f-afe6-269735281118",
   "metadata": {},
   "source": [
    "#### Observations :\n",
    "- Isolation Forest found 73 errors, LOF found 97 errors, and SVM found 8515 errors.\n",
    "- Isolation Forest is 99.74% accurate, better than LOF at 99.65% and SVM at 70.09%.\n",
    "- Isolation Forest detects about 27% of fraud cases, much better than LOF's 2% and SVM's 0%.\n",
    "- Overall, Isolation Forest is the best for identifying fraud, with about 30% accuracy.\n",
    "- Accuracy can be improved by using larger samples or deep learning, though it will be more computationally expensive."
   ]
  },
  {
   "cell_type": "code",
   "execution_count": null,
   "id": "49f96cd4-67aa-4502-a1fd-82d64d49ec19",
   "metadata": {},
   "outputs": [],
   "source": []
  }
 ],
 "metadata": {
  "kernelspec": {
   "display_name": "Python 3 (ipykernel)",
   "language": "python",
   "name": "python3"
  },
  "language_info": {
   "codemirror_mode": {
    "name": "ipython",
    "version": 3
   },
   "file_extension": ".py",
   "mimetype": "text/x-python",
   "name": "python",
   "nbconvert_exporter": "python",
   "pygments_lexer": "ipython3",
   "version": "3.11.7"
  }
 },
 "nbformat": 4,
 "nbformat_minor": 5
}
